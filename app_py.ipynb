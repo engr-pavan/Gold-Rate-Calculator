{
  "nbformat": 4,
  "nbformat_minor": 0,
  "metadata": {
    "colab": {
      "provenance": [],
      "authorship_tag": "ABX9TyPzD6j3f1irv4YTtilyDmDs",
      "include_colab_link": true
    },
    "kernelspec": {
      "name": "python3",
      "display_name": "Python 3"
    },
    "language_info": {
      "name": "python"
    }
  },
  "cells": [
    {
      "cell_type": "markdown",
      "metadata": {
        "id": "view-in-github",
        "colab_type": "text"
      },
      "source": [
        "<a href=\"https://colab.research.google.com/github/engr-pavan/Gold-Rate-Calculator/blob/main/app_py.ipynb\" target=\"_parent\"><img src=\"https://colab.research.google.com/assets/colab-badge.svg\" alt=\"Open In Colab\"/></a>"
      ]
    },
    {
      "cell_type": "code",
      "source": [
        "import streamlit as st\n",
        "\n",
        "# Function to calculate the total gold price based on karat and weight in tola\n",
        "def calculate_gold_price(weight_in_tola, rate_per_tola, purity_percentage):\n",
        "    pure_gold_rate = rate_per_tola * (purity_percentage / 100)\n",
        "    return weight_in_tola * pure_gold_rate\n",
        "\n",
        "# Dictionary for purity percentages of different gold karats\n",
        "karat_purity = {\n",
        "    '24K': 100,        # 100% pure\n",
        "    '22K': 91.67,      # 91.67% pure\n",
        "    '21K': 87.5,       # 87.5% pure\n",
        "    '20K': 83.33,      # 83.33% pure\n",
        "    '19K': 79.17,      # 79.17% pure\n",
        "    '18K': 75          # 75% pure\n",
        "}\n",
        "\n",
        "# Currency exchange rates (example values, you'd need to update them based on live rates)\n",
        "currency_rates = {\n",
        "    'PKR': 1,          # Base currency (e.g., Pakistani Rupees)\n",
        "    'USD': 280,        # 1 USD = 280 PKR (example rate)\n",
        "    'EUR': 300,        # 1 EUR = 300 PKR (example rate)\n",
        "    # Add other currencies if needed\n",
        "}\n",
        "\n",
        "# Streamlit user interface\n",
        "st.title('Gold Rate Calculator')\n",
        "\n",
        "# Input fields\n",
        "weight_in_tola = st.number_input(\"Enter the weight of gold (in tolas): \", min_value=0.0, value=1.0)\n",
        "gold_karat = st.selectbox(\"Select the gold purity (Karat): \", options=['24K', '22K', '21K', '20K', '19K', '18K'])\n",
        "rate_per_tola = st.number_input(f\"Enter the current rate of 24K gold per tola in your base currency: \", min_value=0.0, value=200000.0)\n",
        "currency = st.selectbox(\"Select the currency: \", options=['PKR', 'USD', 'EUR'])\n",
        "\n",
        "# Convert the rate to PKR if another currency is selected\n",
        "if currency != 'PKR':\n",
        "    rate_per_tola *= currency_rates[currency]\n",
        "\n",
        "# Get the purity percentage based on the karat\n",
        "purity_percentage = karat_purity.get(gold_karat, 100)\n",
        "\n",
        "# Calculate the total cost when the user presses the button\n",
        "if st.button('Calculate'):\n",
        "    total_cost = calculate_gold_price(weight_in_tola, rate_per_tola, purity_percentage)\n",
        "    st.write(f\"The total cost of {weight_in_tola} tolas of {gold_karat} gold is: {total_cost:.2f} PKR\")\n",
        "\n"
      ],
      "metadata": {
        "id": "9wTu1S0p9PG7"
      },
      "execution_count": null,
      "outputs": []
    }
  ]
}